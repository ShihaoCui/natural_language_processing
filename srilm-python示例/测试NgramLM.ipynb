{
 "cells": [
  {
   "cell_type": "code",
   "execution_count": 1,
   "metadata": {
    "collapsed": false
   },
   "outputs": [
    {
     "data": {
      "text/plain": [
       "True"
      ]
     },
     "execution_count": 1,
     "metadata": {},
     "output_type": "execute_result"
    }
   ],
   "source": [
    "# 构建词汇表对象\n",
    "import srilm.vocab\n",
    "vocab = srilm.vocab.Vocab()\n",
    "# 由训练语料文件构建词汇表，词汇表格式为每行1个词语，特殊词语有\n",
    "# -pau- 停用词标记\n",
    "# </s>  句子结束标记\n",
    "# <s>   句子开始标记\n",
    "# <unk> 未登录词标记\n",
    "vocab.read('/Users/yufei/git_code/tools/srilm-1.7.1/srilm-python/tests/98c1v.txt')"
   ]
  },
  {
   "cell_type": "code",
   "execution_count": 2,
   "metadata": {
    "collapsed": false
   },
   "outputs": [
    {
     "data": {
      "text/plain": [
       "array('I', [51, 100, 83])"
      ]
     },
     "execution_count": 2,
     "metadata": {},
     "output_type": "execute_result"
    }
   ],
   "source": [
    "# 获取词语序列对应的索引序列，结果中的'I'是什么不知道\n",
    "vocab.index(['it', 'was', 'the'])"
   ]
  },
  {
   "cell_type": "code",
   "execution_count": 3,
   "metadata": {
    "collapsed": false
   },
   "outputs": [
    {
     "data": {
      "text/plain": [
       "1190"
      ]
     },
     "execution_count": 3,
     "metadata": {},
     "output_type": "execute_result"
    }
   ],
   "source": [
    "# 构建统计n-gram对象 注意统计n-gram数量必须与n-gram语言模型实例一致\n",
    "import srilm.stats\n",
    "# 注意需要传入词汇表对象\n",
    "stats = srilm.stats.Stats(vocab, 3)\n",
    "# 统计一个文本文件\n",
    "stats.count_file('/Users/yufei/git_code/tools/srilm-1.7.1/srilm-python/tests/98c1.txt')"
   ]
  },
  {
   "cell_type": "code",
   "execution_count": 4,
   "metadata": {
    "collapsed": false
   },
   "outputs": [],
   "source": [
    "# 构建一个3-gram模型对象\n",
    "import srilm.ngram\n",
    "lm = srilm.ngram.Lm(vocab, 3)"
   ]
  },
  {
   "cell_type": "code",
   "execution_count": 5,
   "metadata": {
    "collapsed": false
   },
   "outputs": [
    {
     "data": {
      "text/plain": [
       "3"
      ]
     },
     "execution_count": 5,
     "metadata": {},
     "output_type": "execute_result"
    }
   ],
   "source": [
    "# 查看模型的阶数，模型的阶数只能在Lm初始化时指定一次\n",
    "lm.order"
   ]
  },
  {
   "cell_type": "code",
   "execution_count": 6,
   "metadata": {
    "collapsed": false
   },
   "outputs": [
    {
     "data": {
      "text/plain": [
       "0"
      ]
     },
     "execution_count": 6,
     "metadata": {},
     "output_type": "execute_result"
    }
   ],
   "source": [
    "# 查看语言模型中最高阶ngram概率的数目\n",
    "len(lm)"
   ]
  },
  {
   "cell_type": "code",
   "execution_count": 7,
   "metadata": {
    "collapsed": false
   },
   "outputs": [],
   "source": [
    "# 为特定的n-gram设置折扣对象\n",
    "import srilm.discount\n",
    "for i in range(3):\n",
    "    lm.set_discount(i + 1, srilm.discount.Discount(method='kneser-ney', interpolate=True))"
   ]
  },
  {
   "cell_type": "code",
   "execution_count": 8,
   "metadata": {
    "collapsed": false
   },
   "outputs": [
    {
     "data": {
      "text/plain": [
       "True"
      ]
     },
     "execution_count": 8,
     "metadata": {},
     "output_type": "execute_result"
    }
   ],
   "source": [
    "# 训练语言模型，注意需要传入统计对象\n",
    "lm.train(stats)"
   ]
  },
  {
   "cell_type": "code",
   "execution_count": 9,
   "metadata": {
    "collapsed": false
   },
   "outputs": [
    {
     "data": {
      "text/plain": [
       "-1.2695128917694092"
      ]
     },
     "execution_count": 9,
     "metadata": {},
     "output_type": "execute_result"
    }
   ],
   "source": [
    "# 计算对数概率p(ngram [-1] | ngram [-2], ngram [-3], ...)\n",
    "lm.prob_ngram(vocab.index(['it', 'was', 'the']))"
   ]
  },
  {
   "cell_type": "code",
   "execution_count": 10,
   "metadata": {
    "collapsed": false
   },
   "outputs": [],
   "source": [
    "# 保存模型\n",
    "lm.write('data/lm.txt')"
   ]
  },
  {
   "cell_type": "code",
   "execution_count": 11,
   "metadata": {
    "collapsed": false
   },
   "outputs": [],
   "source": [
    "# 销毁统计对象\n",
    "del stats\n",
    "# 销毁语言模型对象\n",
    "del lm\n",
    "# 销毁词汇表对象\n",
    "del vocab"
   ]
  }
 ],
 "metadata": {
  "kernelspec": {
   "display_name": "Python [conda env:py36]",
   "language": "python",
   "name": "conda-env-py36-py"
  },
  "language_info": {
   "codemirror_mode": {
    "name": "ipython",
    "version": 3
   },
   "file_extension": ".py",
   "mimetype": "text/x-python",
   "name": "python",
   "nbconvert_exporter": "python",
   "pygments_lexer": "ipython3",
   "version": "3.6.2"
  }
 },
 "nbformat": 4,
 "nbformat_minor": 1
}
