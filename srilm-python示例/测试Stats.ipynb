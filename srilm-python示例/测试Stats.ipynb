{
 "cells": [
  {
   "cell_type": "code",
   "execution_count": 1,
   "metadata": {
    "collapsed": false
   },
   "outputs": [],
   "source": [
    "import srilm.stats\n",
    "import srilm.vocab\n",
    "import random\n",
    "import array"
   ]
  },
  {
   "cell_type": "code",
   "execution_count": 2,
   "metadata": {
    "collapsed": false
   },
   "outputs": [
    {
     "data": {
      "text/plain": [
       "3"
      ]
     },
     "execution_count": 2,
     "metadata": {},
     "output_type": "execute_result"
    }
   ],
   "source": [
    "# 查看stats的阶\n",
    "vocab = srilm.vocab.Vocab()\n",
    "stats = srilm.stats.Stats(vocab, 3)\n",
    "stats.order"
   ]
  },
  {
   "cell_type": "code",
   "execution_count": 3,
   "metadata": {
    "collapsed": false
   },
   "outputs": [
    {
     "data": {
      "text/plain": [
       "0"
      ]
     },
     "execution_count": 3,
     "metadata": {},
     "output_type": "execute_result"
    }
   ],
   "source": [
    "# 查看3-gram计数\n",
    "words = array.array('I', [1, 2, 3])\n",
    "stats[words]"
   ]
  },
  {
   "cell_type": "code",
   "execution_count": 4,
   "metadata": {
    "collapsed": false
   },
   "outputs": [
    {
     "data": {
      "text/plain": [
       "100"
      ]
     },
     "execution_count": 4,
     "metadata": {},
     "output_type": "execute_result"
    }
   ],
   "source": [
    "# 设置3-gram计数\n",
    "words = array.array('I', [1, 2, 3])\n",
    "stats[words] = 100\n",
    "stats[words]"
   ]
  },
  {
   "cell_type": "code",
   "execution_count": 5,
   "metadata": {
    "collapsed": false
   },
   "outputs": [
    {
     "data": {
      "text/plain": [
       "110"
      ]
     },
     "execution_count": 5,
     "metadata": {},
     "output_type": "execute_result"
    }
   ],
   "source": [
    "# 给3-gram计数添加计数\n",
    "words = array.array('I', [1, 2, 3])\n",
    "stats.add(words, 10)\n",
    "stats[words]"
   ]
  },
  {
   "cell_type": "code",
   "execution_count": 6,
   "metadata": {
    "collapsed": false
   },
   "outputs": [
    {
     "data": {
      "text/plain": [
       "0"
      ]
     },
     "execution_count": 6,
     "metadata": {},
     "output_type": "execute_result"
    }
   ],
   "source": [
    "# 删除1个3-gram\n",
    "words = array.array('I', [1, 2, 3])\n",
    "stats[words] = 100\n",
    "del stats[words]\n",
    "stats[words]"
   ]
  },
  {
   "cell_type": "code",
   "execution_count": 7,
   "metadata": {
    "collapsed": false
   },
   "outputs": [
    {
     "name": "stdout",
     "output_type": "stream",
     "text": [
      "words =  array('I', [1, 2, 3])\n",
      "words[0] =  1\n",
      "words[1] =  2\n",
      "words[2] =  3\n"
     ]
    }
   ],
   "source": [
    "words = array.array('I', [1, 2, 3])\n",
    "print(\"words = \", words)\n",
    "print(\"words[0] = \", words[0])\n",
    "print(\"words[1] = \", words[1])\n",
    "print(\"words[2] = \", words[2])"
   ]
  },
  {
   "cell_type": "code",
   "execution_count": 8,
   "metadata": {
    "collapsed": false
   },
   "outputs": [],
   "source": [
    "# 随机产生10个3-gram计数\n",
    "stats = srilm.stats.Stats(vocab, 3)\n",
    "words = array.array('I', [1, 2, 3])\n",
    "for i in range(20):\n",
    "    words[random.randint(0, 2)] = random.randint(0, 100)\n",
    "    stats[words] = random.randint(1, 1000)"
   ]
  },
  {
   "cell_type": "code",
   "execution_count": 9,
   "metadata": {
    "collapsed": false
   },
   "outputs": [
    {
     "name": "stdout",
     "output_type": "stream",
     "text": [
      "array('I', [1, 2, 14]) 911\n",
      "array('I', [40, 26, 90]) 644\n",
      "array('I', [40, 26, 41]) 34\n",
      "array('I', [40, 26, 70]) 45\n",
      "array('I', [44, 2, 14]) 812\n",
      "array('I', [44, 80, 14]) 429\n",
      "array('I', [83, 80, 70]) 221\n",
      "array('I', [83, 80, 64]) 574\n",
      "array('I', [12, 80, 32]) 603\n",
      "array('I', [12, 80, 39]) 566\n",
      "array('I', [12, 80, 70]) 317\n",
      "array('I', [12, 80, 14]) 102\n",
      "array('I', [12, 80, 36]) 104\n",
      "array('I', [50, 26, 90]) 140\n",
      "array('I', [56, 80, 64]) 300\n",
      "array('I', [92, 26, 64]) 47\n",
      "array('I', [92, 26, 90]) 309\n",
      "array('I', [31, 80, 14]) 995\n",
      "array('I', [70, 80, 64]) 349\n",
      "array('I', [70, 26, 64]) 394\n"
     ]
    }
   ],
   "source": [
    "# 遍历所有可能的3-gram\n",
    "for w, cnt in stats.iter(3):\n",
    "    print(w, cnt)"
   ]
  },
  {
   "cell_type": "code",
   "execution_count": 10,
   "metadata": {
    "collapsed": false
   },
   "outputs": [
    {
     "name": "stdout",
     "output_type": "stream",
     "text": [
      "array('I', [1, 2]) 0\n",
      "array('I', [40, 26]) 0\n",
      "array('I', [44, 2]) 0\n",
      "array('I', [44, 80]) 0\n",
      "array('I', [83, 80]) 0\n",
      "array('I', [12, 80]) 0\n",
      "array('I', [50, 26]) 0\n",
      "array('I', [56, 80]) 0\n",
      "array('I', [92, 26]) 0\n",
      "array('I', [31, 80]) 0\n",
      "array('I', [70, 80]) 0\n",
      "array('I', [70, 26]) 0\n"
     ]
    }
   ],
   "source": [
    "# 遍历所有可能的2-gram\n",
    "for w, cnt in stats.iter(2):\n",
    "    print(w, cnt)"
   ]
  },
  {
   "cell_type": "code",
   "execution_count": 11,
   "metadata": {
    "collapsed": false
   },
   "outputs": [
    {
     "name": "stdout",
     "output_type": "stream",
     "text": [
      "array('I', [1, 2, 3]) 15\n",
      "array('I', [1, 2, 0]) 2\n"
     ]
    }
   ],
   "source": [
    "vocab = srilm.vocab.Vocab()\n",
    "stats = srilm.stats.Stats(vocab, 3)\n",
    "# 保存计数文件\n",
    "words = array.array('I', [1, 2, 3])\n",
    "stats[words] = 15\n",
    "words = array.array('I', [1, 2, 0])\n",
    "stats[words] = 2\n",
    "fname = 'data/count.txt'\n",
    "stats.write(fname)\n",
    "\n",
    "# 读取计数文件， 词汇表可以是一个空对象\n",
    "new_stats = srilm.stats.Stats(vocab, 3)\n",
    "new_stats.read(fname)\n",
    "for w, cnt in new_stats:\n",
    "    print(w, cnt)"
   ]
  },
  {
   "cell_type": "code",
   "execution_count": 12,
   "metadata": {
    "collapsed": false
   },
   "outputs": [
    {
     "name": "stdout",
     "output_type": "stream",
     "text": [
      "array('I', [1, 2, 0]) 2\n",
      "array('I', [1, 2, 3]) 15\n"
     ]
    }
   ],
   "source": [
    "# 保存二进制计数文件\n",
    "words = array.array('I', [1, 2, 3])\n",
    "stats[words] = 15\n",
    "words = array.array('I', [1, 2, 0])\n",
    "stats[words] = 2\n",
    "fname = 'data/count.bin'\n",
    "stats.write(fname, binary=True)\n",
    "\n",
    "# 读取二进制计数文件\n",
    "new_stats = srilm.stats.Stats(vocab, 3)\n",
    "new_stats.read(fname, binary=True)\n",
    "for w, cnt in new_stats:\n",
    "    print(w, cnt)"
   ]
  },
  {
   "cell_type": "markdown",
   "metadata": {},
   "source": [
    "## 由文件生成计数stats"
   ]
  },
  {
   "cell_type": "code",
   "execution_count": 13,
   "metadata": {
    "collapsed": false
   },
   "outputs": [
    {
     "name": "stdout",
     "output_type": "stream",
     "text": [
      "a对应索引序列 =  array('I', [4, 5, 6])\n",
      "stats[b] =  0\n",
      "从文件中读入的词语数（注意：每个句子添加<bos>和<eos>） =  6\n",
      "after count from file stats[b] =  1\n"
     ]
    }
   ],
   "source": [
    "# 生成文件\n",
    "text = 'this is a test\\n'\n",
    "fname = 'data/text.txt'\n",
    "with open(fname, 'w') as fout:\n",
    "    fout.write(text)\n",
    "\n",
    "# 向词汇表中添加词语\n",
    "vocab = srilm.vocab.Vocab()\n",
    "stats = srilm.stats.Stats(vocab, 3)\n",
    "for w in text.split():\n",
    "    vocab.add(w)\n",
    "\n",
    "# 定义词语序列\n",
    "a = ['this', 'is', 'a']\n",
    "# 获取词语序列对应的索引序列\n",
    "b = vocab.index(a)\n",
    "print(\"a对应索引序列 = \", b)\n",
    "# 输出词语序列a的计数\n",
    "print(\"stats[b] = \", stats[b])\n",
    "# 对文件计数\n",
    "print(\"从文件中读入的词语数（注意：每个句子添加<bos>和<eos>） = \", stats.count_file(fname))\n",
    "# 再次输出词语序列a的计数\n",
    "print(\"after count from file stats[b] = \", stats[b])"
   ]
  },
  {
   "cell_type": "markdown",
   "metadata": {},
   "source": [
    "## 由字符串String生成计数stats"
   ]
  },
  {
   "cell_type": "code",
   "execution_count": 14,
   "metadata": {
    "collapsed": false
   },
   "outputs": [
    {
     "name": "stdout",
     "output_type": "stream",
     "text": [
      "stats[b] =  0\n",
      "从字符串中读入的词语数（注意：每个句子添加<bos>和<eos>） =  6\n",
      "after count from string stats[b] =  1\n"
     ]
    }
   ],
   "source": [
    "vocab = srilm.vocab.Vocab()\n",
    "stats = srilm.stats.Stats(vocab, 3)\n",
    "# 默认\\n作为句子结束\n",
    "text = 'this is a test\\n'\n",
    "for w in text.split():\n",
    "    vocab.add(w)\n",
    "a = ['a', 'test', '</s>']\n",
    "b = vocab.index(a)\n",
    "print(\"stats[b] = \", stats[b])\n",
    "print(\"从字符串中读入的词语数（注意：每个句子添加<bos>和<eos>） = \", stats.count_string(text))\n",
    "print(\"after count from string stats[b] = \", stats[b])"
   ]
  },
  {
   "cell_type": "markdown",
   "metadata": {},
   "source": [
    "## 由词语序列生成计数stats"
   ]
  },
  {
   "cell_type": "code",
   "execution_count": 15,
   "metadata": {
    "collapsed": false
   },
   "outputs": [
    {
     "name": "stdout",
     "output_type": "stream",
     "text": [
      "stats[b] =  0\n",
      "从字符串序列中读入的词语数（注意：每个句子添加<bos>和<eos>） =  6\n",
      "after count from string_li stats[b] =  1\n"
     ]
    }
   ],
   "source": [
    "vocab = srilm.vocab.Vocab()\n",
    "stats = srilm.stats.Stats(vocab, 3)\n",
    "text = 'this is a test\\n'\n",
    "words = text.split()\n",
    "for w in words:\n",
    "    vocab.add(w)\n",
    "# 获取1个词语序列的索引序列\n",
    "b = vocab.index(words)\n",
    "print(\"stats[b] = \", stats[b])\n",
    "print(\"从字符串序列中读入的词语数（注意：每个句子添加<bos>和<eos>） = \", stats.count(b))\n",
    "print(\"after count from string_li stats[b] = \", stats[b])"
   ]
  },
  {
   "cell_type": "markdown",
   "metadata": {},
   "source": [
    "## 3-gram统计后的stats计数之和"
   ]
  },
  {
   "cell_type": "code",
   "execution_count": 16,
   "metadata": {
    "collapsed": false
   },
   "outputs": [
    {
     "name": "stdout",
     "output_type": "stream",
     "text": [
      "空stats len =  0\n",
      "含有1个3次的3-gram的stats len =  3\n",
      "array('I', [1, 2, 3]) 3\n",
      "array('I', [1, 0, 0]) 1\n",
      "array('I', [0, 0, 0]) 2\n",
      "array('I', [0, 0, 2]) 1\n",
      "count之后的stats len =  7\n"
     ]
    }
   ],
   "source": [
    "vocab = srilm.vocab.Vocab()\n",
    "stats = srilm.stats.Stats(vocab, 3)\n",
    "print(\"空stats len = \", len(stats))\n",
    "a = array.array('I', [1, 2, 3])\n",
    "stats[a] = 3\n",
    "print(\"含有1个3次的3-gram的stats len = \", len(stats))\n",
    "stats.count_string('this is a test')\n",
    "for w, cnt in stats:\n",
    "    print(w, cnt)\n",
    "print(\"count之后的stats len = \", len(stats))"
   ]
  },
  {
   "cell_type": "code",
   "execution_count": 17,
   "metadata": {
    "collapsed": false
   },
   "outputs": [
    {
     "name": "stdout",
     "output_type": "stream",
     "text": [
      "2-gram计数 c(this is) =  0\n",
      "更新2-gram计数后，2-gram计数 c(this is) =  1\n"
     ]
    }
   ],
   "source": [
    "vocab = srilm.vocab.Vocab()\n",
    "stats = srilm.stats.Stats(vocab, 3)\n",
    "# 更新3-gram计数后，重新计算低阶计数\n",
    "text = 'this is a test'\n",
    "for w in text.split():\n",
    "    vocab.add(w)\n",
    "# 获取3-gram索引\n",
    "a = vocab.index('this is a'.split())\n",
    "# 获取2-gram索引\n",
    "b = vocab.index('this is'.split())\n",
    "# 更新3-gram计数\n",
    "stats[a] = 1\n",
    "print(\"2-gram计数 c(this is) = \", stats[b])\n",
    "# 跟新2-gram计数\n",
    "stats.sum_counts()\n",
    "print(\"更新2-gram计数后，2-gram计数 c(this is) = \", stats[b])"
   ]
  }
 ],
 "metadata": {
  "anaconda-cloud": {},
  "kernelspec": {
   "display_name": "Python [conda env:py36]",
   "language": "python",
   "name": "conda-env-py36-py"
  },
  "language_info": {
   "codemirror_mode": {
    "name": "ipython",
    "version": 3
   },
   "file_extension": ".py",
   "mimetype": "text/x-python",
   "name": "python",
   "nbconvert_exporter": "python",
   "pygments_lexer": "ipython3",
   "version": "3.6.2"
  }
 },
 "nbformat": 4,
 "nbformat_minor": 1
}
