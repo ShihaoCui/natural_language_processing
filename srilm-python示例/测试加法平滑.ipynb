{
 "cells": [
  {
   "cell_type": "code",
   "execution_count": 9,
   "metadata": {},
   "outputs": [],
   "source": [
    "import srilm.vocab\n",
    "import srilm.stats\n",
    "import srilm.discount\n",
    "import srilm.ngram\n",
    "import numpy as np\n",
    "import array"
   ]
  },
  {
   "cell_type": "code",
   "execution_count": 5,
   "metadata": {},
   "outputs": [],
   "source": [
    "vocab = srilm.vocab.Vocab()\n",
    "lm = srilm.ngram.Lm(vocab, 2)\n",
    "stats = srilm.stats.Stats(vocab, 2)"
   ]
  },
  {
   "cell_type": "code",
   "execution_count": 10,
   "metadata": {},
   "outputs": [
    {
     "name": "stdout",
     "output_type": "stream",
     "text": [
      "词汇表长度= 15\n",
      "-pau- 3\n",
      "<s> 1\n",
      "<unk> 0\n",
      "read 5\n",
      "bible 7\n",
      "brown 4\n",
      "david 14\n",
      "mark 8\n",
      "a 9\n",
      "he 12\n",
      "by 13\n",
      "</s> 2\n",
      "text 10\n",
      "holy 6\n",
      "book 11\n",
      "输出计数结果\n",
      "['<s>', 'brown'] 4\n",
      "['<s>', 'mark'] 4\n",
      "['<s>', 'he'] 4\n",
      "['brown', 'read'] 4\n",
      "['read', 'holy'] 4\n",
      "['read', 'a'] 8\n",
      "['holy', 'bible'] 4\n",
      "['bible', '</s>'] 4\n",
      "['mark', 'read'] 4\n",
      "['a', 'text'] 4\n",
      "['a', 'book'] 4\n",
      "['text', 'book'] 4\n",
      "['book', '</s>'] 4\n",
      "['book', 'by'] 4\n",
      "['he', 'read'] 4\n",
      "['by', 'david'] 4\n",
      "['david', '</s>'] 4\n",
      "['<s>'] 12\n",
      "['</s>'] 12\n",
      "['brown'] 4\n",
      "['read'] 12\n",
      "['holy'] 4\n",
      "['bible'] 4\n",
      "['mark'] 4\n",
      "['a'] 8\n",
      "['text'] 4\n",
      "['book'] 8\n",
      "['he'] 4\n",
      "['by'] 4\n",
      "['david'] 4\n"
     ]
    },
    {
     "data": {
      "text/plain": [
       "0"
      ]
     },
     "execution_count": 10,
     "metadata": {},
     "output_type": "execute_result"
    }
   ],
   "source": [
    "# 读取训练集，构建词汇表\n",
    "fname = 'data/corpus.txt'\n",
    "# 读取词汇表\n",
    "with open(fname) as infile:\n",
    "    for line in infile:\n",
    "        line = line.strip()\n",
    "        if line:\n",
    "            for w in line.split():\n",
    "                vocab.add(w)\n",
    "print(\"词汇表长度=\", len(vocab))\n",
    "\n",
    "# 遍历词汇表\n",
    "for w_i, w in vocab:\n",
    "    print(w_i, w)\n",
    "\n",
    "# n-gram计数\n",
    "print(\"输出计数结果\")\n",
    "stats.count_file(fname)\n",
    "for index, cnt in stats:\n",
    "    print(vocab.string(index), cnt)\n",
    "for index, cnt in stats.iter(1):\n",
    "    print(vocab.string(index), cnt)\n",
    "words = array.array('I', [0])\n",
    "stats[words]"
   ]
  },
  {
   "cell_type": "code",
   "execution_count": 4,
   "metadata": {},
   "outputs": [
    {
     "data": {
      "text/plain": [
       "True"
      ]
     },
     "execution_count": 4,
     "metadata": {},
     "output_type": "execute_result"
    }
   ],
   "source": [
    "# 设置平滑方法\n",
    "for i in range(1, 3):\n",
    "    lm.set_discount(i, srilm.discount.Discount(method='additive'))\n",
    "lm.debug_level = 2\n",
    "# 训练语言模型\n",
    "lm.train(stats)"
   ]
  },
  {
   "cell_type": "code",
   "execution_count": 5,
   "metadata": {},
   "outputs": [
    {
     "name": "stdout",
     "output_type": "stream",
     "text": [
      "-1.1903316974639893 0.064516129137182 ['<s>', 'brown']\n",
      "-0.8893017172813416 0.12903225367473986 ['brown', 'read']\n",
      "-1.0142403841018677 0.09677420580692216 ['read', 'a']\n",
      "-1.0142403841018677 0.09677420580692216 ['a', 'book']\n",
      "-0.8893017172813416 0.12903225367473986 ['book', '</s>']\n"
     ]
    }
   ],
   "source": [
    "ngram2_li = [['<s>', 'brown'],\n",
    "           ['brown', 'read'],\n",
    "           ['read', 'a'], \n",
    "           ['a', 'book'],\n",
    "           ['book', '</s>']]\n",
    "for word_li in ngram2_li:\n",
    "    logprob = lm.prob_ngram(vocab.index(word_li))\n",
    "    prob = np.power(10,logprob)\n",
    "    print(logprob, prob, word_li)"
   ]
  }
 ],
 "metadata": {
  "anaconda-cloud": {},
  "kernelspec": {
   "display_name": "py36",
   "language": "python",
   "name": "py36"
  },
  "language_info": {
   "codemirror_mode": {
    "name": "ipython",
    "version": 3
   },
   "file_extension": ".py",
   "mimetype": "text/x-python",
   "name": "python",
   "nbconvert_exporter": "python",
   "pygments_lexer": "ipython3",
   "version": "3.6.9"
  }
 },
 "nbformat": 4,
 "nbformat_minor": 1
}
