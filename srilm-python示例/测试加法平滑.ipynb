{
 "cells": [
  {
   "cell_type": "code",
   "execution_count": 1,
   "metadata": {
    "collapsed": true
   },
   "outputs": [],
   "source": [
    "import srilm.vocab\n",
    "import srilm.stats\n",
    "import srilm.discount\n",
    "import srilm.ngram\n",
    "import numpy as np"
   ]
  },
  {
   "cell_type": "code",
   "execution_count": 2,
   "metadata": {
    "collapsed": true
   },
   "outputs": [],
   "source": [
    "vocab = srilm.vocab.Vocab()\n",
    "lm = srilm.ngram.Lm(vocab, 2)\n",
    "stats = srilm.stats.Stats(vocab, 2)"
   ]
  },
  {
   "cell_type": "code",
   "execution_count": 3,
   "metadata": {
    "collapsed": false
   },
   "outputs": [
    {
     "name": "stdout",
     "output_type": "stream",
     "text": [
      "词汇表长度= 15\n",
      "['<s>', 'brown'] 1\n",
      "['<s>', 'mark'] 1\n",
      "['<s>', 'he'] 1\n",
      "['brown', 'read'] 1\n",
      "['read', 'holy'] 1\n",
      "['read', 'a'] 2\n",
      "['holy', 'bible'] 1\n",
      "['bible', '</s>'] 1\n",
      "['mark', 'read'] 1\n",
      "['a', 'text'] 1\n",
      "['a', 'book'] 1\n",
      "['text', 'book'] 1\n",
      "['book', '</s>'] 1\n",
      "['book', 'by'] 1\n",
      "['he', 'read'] 1\n",
      "['by', 'david'] 1\n",
      "['david', '</s>'] 1\n",
      "['<s>'] 3\n",
      "['</s>'] 3\n",
      "['brown'] 1\n",
      "['read'] 3\n",
      "['holy'] 1\n",
      "['bible'] 1\n",
      "['mark'] 1\n",
      "['a'] 2\n",
      "['text'] 1\n",
      "['book'] 2\n",
      "['he'] 1\n",
      "['by'] 1\n",
      "['david'] 1\n"
     ]
    }
   ],
   "source": [
    "# 读取训练集，构建词汇表\n",
    "fname = 'data/zcq_text.txt'\n",
    "# 读取词汇表\n",
    "with open(fname) as infile:\n",
    "    for line in infile:\n",
    "        line = line.strip()\n",
    "        if line:\n",
    "            for w in line.split():\n",
    "                vocab.add(w)\n",
    "print(\"词汇表长度=\", len(vocab))\n",
    "# n-gram计数\n",
    "stats.count_file(fname)\n",
    "for index, cnt in stats:\n",
    "    print(vocab.string(index), cnt)\n",
    "for index, cnt in stats.iter(1):\n",
    "    print(vocab.string(index), cnt)"
   ]
  },
  {
   "cell_type": "code",
   "execution_count": 4,
   "metadata": {
    "collapsed": false
   },
   "outputs": [
    {
     "data": {
      "text/plain": [
       "True"
      ]
     },
     "execution_count": 4,
     "metadata": {},
     "output_type": "execute_result"
    }
   ],
   "source": [
    "# 设置平滑方法\n",
    "for i in range(1, 3):\n",
    "    lm.set_discount(i, srilm.discount.Discount(method='additive'))\n",
    "lm.debug_level = 2\n",
    "# 训练语言模型\n",
    "lm.train(stats)"
   ]
  },
  {
   "cell_type": "code",
   "execution_count": 5,
   "metadata": {
    "collapsed": false
   },
   "outputs": [
    {
     "name": "stdout",
     "output_type": "stream",
     "text": [
      "-1.1903316974639893 0.064516129137182 ['<s>', 'brown']\n",
      "-0.8893017172813416 0.12903225367473986 ['brown', 'read']\n",
      "-1.0142403841018677 0.09677420580692216 ['read', 'a']\n",
      "-1.0142403841018677 0.09677420580692216 ['a', 'book']\n",
      "-0.8893017172813416 0.12903225367473986 ['book', '</s>']\n"
     ]
    }
   ],
   "source": [
    "ngram2_li = [['<s>', 'brown'],\n",
    "           ['brown', 'read'],\n",
    "           ['read', 'a'], \n",
    "           ['a', 'book'],\n",
    "           ['book', '</s>']]\n",
    "for word_li in ngram2_li:\n",
    "    logprob = lm.prob_ngram(vocab.index(word_li))\n",
    "    prob = np.power(10,logprob)\n",
    "    print(logprob, prob, word_li)"
   ]
  }
 ],
 "metadata": {
  "anaconda-cloud": {},
  "kernelspec": {
   "display_name": "Python [conda env:py36]",
   "language": "python",
   "name": "conda-env-py36-py"
  },
  "language_info": {
   "codemirror_mode": {
    "name": "ipython",
    "version": 3
   },
   "file_extension": ".py",
   "mimetype": "text/x-python",
   "name": "python",
   "nbconvert_exporter": "python",
   "pygments_lexer": "ipython3",
   "version": "3.6.2"
  }
 },
 "nbformat": 4,
 "nbformat_minor": 1
}
