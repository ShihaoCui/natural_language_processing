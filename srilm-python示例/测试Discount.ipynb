{
 "cells": [
  {
   "cell_type": "code",
   "execution_count": 1,
   "metadata": {
    "collapsed": true
   },
   "outputs": [],
   "source": [
    "import srilm.discount\n",
    "import srilm.vocab\n",
    "import srilm.stats"
   ]
  },
  {
   "cell_type": "code",
   "execution_count": 2,
   "metadata": {
    "collapsed": false
   },
   "outputs": [
    {
     "name": "stdout",
     "output_type": "stream",
     "text": [
      "折扣方法 =  kneser-ney\n",
      "是否进行插值 =  True\n"
     ]
    }
   ],
   "source": [
    "# 定义折扣实例\n",
    "discount = srilm.discount.Discount(method='kneser-ney', interpolate=True)\n",
    "# 查看折扣方法\n",
    "print(\"折扣方法 = \", discount.method)\n",
    "# 是否用插值 lambada_1*p(n-gram) + lambda_2*p((n-1)-gram) + ... lamda_n*p(1-gram)\n",
    "print(\"是否进行插值 = \", discount.interpolate)"
   ]
  },
  {
   "cell_type": "markdown",
   "metadata": {},
   "source": [
    "## 定义训练集，词汇表，统计n-gram计数"
   ]
  },
  {
   "cell_type": "code",
   "execution_count": 3,
   "metadata": {
    "collapsed": false
   },
   "outputs": [
    {
     "name": "stdout",
     "output_type": "stream",
     "text": [
      "词汇表：\n",
      "-pau- 3\n",
      "times, 9\n",
      "worst 11\n",
      "<s> 1\n",
      "<unk> 0\n",
      "hope, 22\n",
      "the 6\n",
      "age 12\n",
      "foolishness, 14\n",
      "It 4\n",
      "it 10\n",
      "winter 23\n",
      "of 8\n",
      "epoch 15\n",
      "incredulity, 17\n",
      "was 5\n",
      "Darkness, 20\n",
      "season 18\n",
      "best 7\n",
      "Light, 19\n",
      "</s> 2\n",
      "belief, 16\n",
      "spring 21\n",
      "despair, 24\n",
      "wisdom, 13\n",
      "3-gram计数：\n",
      "['<s>', 'It', 'was'] 1\n",
      "['It', 'was', 'the'] 1\n",
      "['was', 'the', 'best'] 1\n",
      "['was', 'the', 'worst'] 1\n",
      "['was', 'the', 'age'] 2\n",
      "['was', 'the', 'epoch'] 2\n",
      "['was', 'the', 'season'] 2\n",
      "['was', 'the', 'spring'] 1\n",
      "['was', 'the', 'winter'] 1\n",
      "['the', 'best', 'of'] 1\n",
      "['the', 'worst', 'of'] 1\n",
      "['the', 'age', 'of'] 2\n",
      "['the', 'epoch', 'of'] 2\n",
      "['the', 'season', 'of'] 2\n",
      "['the', 'spring', 'of'] 1\n",
      "['the', 'winter', 'of'] 1\n",
      "['best', 'of', 'times,'] 1\n",
      "['of', 'times,', 'it'] 2\n",
      "['of', 'wisdom,', 'it'] 1\n",
      "['of', 'foolishness,', 'it'] 1\n",
      "['of', 'belief,', 'it'] 1\n",
      "['of', 'incredulity,', 'it'] 1\n",
      "['of', 'Light,', 'it'] 1\n",
      "['of', 'Darkness,', 'it'] 1\n",
      "['of', 'hope,', 'it'] 1\n",
      "['of', 'despair,', '</s>'] 1\n",
      "['times,', 'it', 'was'] 2\n",
      "['it', 'was', 'the'] 9\n",
      "['worst', 'of', 'times,'] 1\n",
      "['age', 'of', 'wisdom,'] 1\n",
      "['age', 'of', 'foolishness,'] 1\n",
      "['wisdom,', 'it', 'was'] 1\n",
      "['foolishness,', 'it', 'was'] 1\n",
      "['epoch', 'of', 'belief,'] 1\n",
      "['epoch', 'of', 'incredulity,'] 1\n",
      "['belief,', 'it', 'was'] 1\n",
      "['incredulity,', 'it', 'was'] 1\n",
      "['season', 'of', 'Light,'] 1\n",
      "['season', 'of', 'Darkness,'] 1\n",
      "['Light,', 'it', 'was'] 1\n",
      "['Darkness,', 'it', 'was'] 1\n",
      "['spring', 'of', 'hope,'] 1\n",
      "['hope,', 'it', 'was'] 1\n",
      "['winter', 'of', 'despair,'] 1\n",
      "2-gram计数：\n",
      "['<s>', 'It'] 1\n",
      "['It', 'was'] 1\n",
      "['was', 'the'] 10\n",
      "['the', 'best'] 1\n",
      "['the', 'worst'] 1\n",
      "['the', 'age'] 2\n",
      "['the', 'epoch'] 2\n",
      "['the', 'season'] 2\n",
      "['the', 'spring'] 1\n",
      "['the', 'winter'] 1\n",
      "['best', 'of'] 1\n",
      "['of', 'times,'] 2\n",
      "['of', 'wisdom,'] 1\n",
      "['of', 'foolishness,'] 1\n",
      "['of', 'belief,'] 1\n",
      "['of', 'incredulity,'] 1\n",
      "['of', 'Light,'] 1\n",
      "['of', 'Darkness,'] 1\n",
      "['of', 'hope,'] 1\n",
      "['of', 'despair,'] 1\n",
      "['times,', 'it'] 2\n",
      "['it', 'was'] 9\n",
      "['worst', 'of'] 1\n",
      "['age', 'of'] 2\n",
      "['wisdom,', 'it'] 1\n",
      "['foolishness,', 'it'] 1\n",
      "['epoch', 'of'] 2\n",
      "['belief,', 'it'] 1\n",
      "['incredulity,', 'it'] 1\n",
      "['season', 'of'] 2\n",
      "['Light,', 'it'] 1\n",
      "['Darkness,', 'it'] 1\n",
      "['spring', 'of'] 1\n",
      "['hope,', 'it'] 1\n",
      "['winter', 'of'] 1\n",
      "['despair,', '</s>'] 1\n",
      "1-gram计数：\n",
      "['<s>'] 1\n",
      "['</s>'] 1\n",
      "['It'] 1\n",
      "['was'] 10\n",
      "['the'] 10\n",
      "['best'] 1\n",
      "['of'] 10\n",
      "['times,'] 2\n",
      "['it'] 9\n",
      "['worst'] 1\n",
      "['age'] 2\n",
      "['wisdom,'] 1\n",
      "['foolishness,'] 1\n",
      "['epoch'] 2\n",
      "['belief,'] 1\n",
      "['incredulity,'] 1\n",
      "['season'] 2\n",
      "['Light,'] 1\n",
      "['Darkness,'] 1\n",
      "['spring'] 1\n",
      "['hope,'] 1\n",
      "['winter'] 1\n",
      "['despair,'] 1\n"
     ]
    }
   ],
   "source": [
    "# 定义训练集\n",
    "text = \"\"\"\n",
    "It was the best of times,\n",
    "it was the worst of times,\n",
    "it was the age of wisdom,\n",
    "it was the age of foolishness,\n",
    "it was the epoch of belief,\n",
    "it was the epoch of incredulity, it was the season of Light,\n",
    "it was the season of Darkness, it was the spring of hope,\n",
    "it was the winter of despair,\n",
    "\"\"\"\n",
    "\n",
    "# 定义词汇表实例\n",
    "v = srilm.vocab.Vocab()\n",
    "# 定义Stats实例\n",
    "ts = srilm.stats.Stats(v, 3)\n",
    "\n",
    "# 读入词汇表\n",
    "for w in text.split():\n",
    "    v.add(w)\n",
    "    \n",
    "# 遍历词表\n",
    "print(\"词汇表：\")\n",
    "for w, i in v:\n",
    "    print(w, i)\n",
    "\n",
    "# 统计n-gram\n",
    "ts.count_string(text)\n",
    "\n",
    "# 输出3-gram计数\n",
    "print(\"3-gram计数：\")\n",
    "for w, cnt in ts:\n",
    "    print(v.string(w), cnt)\n",
    "\n",
    "# 输出2-gram计数\n",
    "print(\"2-gram计数：\")\n",
    "for w, cnt in ts.iter(2):\n",
    "    print(v.string(w), cnt)\n",
    "    \n",
    "# 输出1-gram计数\n",
    "print(\"1-gram计数：\")\n",
    "for w, cnt in ts.iter(1):\n",
    "    print(v.string(w), cnt)"
   ]
  },
  {
   "cell_type": "markdown",
   "metadata": {},
   "source": [
    "## 加法平滑"
   ]
  },
  {
   "cell_type": "code",
   "execution_count": 4,
   "metadata": {
    "collapsed": false
   },
   "outputs": [
    {
     "name": "stdout",
     "output_type": "stream",
     "text": [
      "折扣方法 =  additive\n",
      "是否进行插值 =  True\n",
      "估计折扣值是否成功： True\n",
      "折扣值 1.0\n"
     ]
    }
   ],
   "source": [
    "# 定义折扣实例\n",
    "discount = srilm.discount.Discount(method='additive', interpolate=True)\n",
    "# 查看折扣方法\n",
    "print(\"折扣方法 = \", discount.method)\n",
    "# 是否用插值 \n",
    "print(\"是否进行插值 = \", discount.interpolate)\n",
    "# 估计折扣值\n",
    "print(\"估计折扣值是否成功：\", discount.estimate(ts, 3))\n",
    "# 输出折扣值， 在加法平滑中该值对应公式p = (c + delta) / (T + N * delta)中的delta\n",
    "print(\"折扣值\", discount.discount)"
   ]
  },
  {
   "cell_type": "markdown",
   "metadata": {},
   "source": [
    "## Witten-Bell平滑"
   ]
  },
  {
   "cell_type": "markdown",
   "metadata": {},
   "source": [
    "<pre>\n",
    "Witten-Bell平滑不需要调用estimate方法\n",
    "Boolean estimate(NgramStats &counts, unsigned order)\n",
    "{ return true; } ;\n",
    "Boolean estimate(NgramCounts<FloatCount> &counts, unsigned order)\n",
    "{ return true; } ;\n",
    "</pre>"
   ]
  },
  {
   "cell_type": "code",
   "execution_count": 5,
   "metadata": {
    "collapsed": false
   },
   "outputs": [
    {
     "name": "stdout",
     "output_type": "stream",
     "text": [
      "折扣方法 =  witten-bell\n",
      "是否进行插值 =  True\n"
     ]
    }
   ],
   "source": [
    "# 定义折扣实例\n",
    "discount = srilm.discount.Discount(method='witten-bell', interpolate=True)\n",
    "# 查看折扣方法\n",
    "print(\"折扣方法 = \", discount.method)\n",
    "# 是否用插值 \n",
    "print(\"是否进行插值 = \", discount.interpolate)"
   ]
  }
 ],
 "metadata": {
  "anaconda-cloud": {},
  "kernelspec": {
   "display_name": "Python [conda env:py36]",
   "language": "python",
   "name": "conda-env-py36-py"
  },
  "language_info": {
   "codemirror_mode": {
    "name": "ipython",
    "version": 3
   },
   "file_extension": ".py",
   "mimetype": "text/x-python",
   "name": "python",
   "nbconvert_exporter": "python",
   "pygments_lexer": "ipython3",
   "version": "3.6.2"
  }
 },
 "nbformat": 4,
 "nbformat_minor": 1
}
