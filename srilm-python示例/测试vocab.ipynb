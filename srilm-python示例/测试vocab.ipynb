{
 "cells": [
  {
   "cell_type": "code",
   "execution_count": 1,
   "metadata": {
    "collapsed": true
   },
   "outputs": [],
   "source": [
    "import srilm.vocab"
   ]
  },
  {
   "cell_type": "code",
   "execution_count": 2,
   "metadata": {},
   "outputs": [
    {
     "name": "stdout",
     "output_type": "stream",
     "text": [
      "add word xixi 4\n",
      "xixi in vocab? True\n",
      "xixi index = 4\n",
      "del <s>\n",
      "<s> not in vocab? True\n",
      "<unk> in vocab? True\n"
     ]
    }
   ],
   "source": [
    "# 实例化词典对象\n",
    "vocab = srilm.vocab.Vocab()\n",
    "# 向词典中添加词\n",
    "print(\"add word xixi\", vocab.add('xixi'))\n",
    "print(\"xixi in vocab?\", 'xixi' in vocab)\n",
    "# 获取词语索引\n",
    "print(\"xixi index =\", vocab['xixi']) \n",
    "# 删除句子开始符\n",
    "print(\"del <s>\")\n",
    "del vocab['<s>']\n",
    "print(\"<s> not in vocab?\", '<s>' not in vocab)\n",
    "# 查看词语是否在词典中\n",
    "print('<unk> in vocab?', '<unk>' in vocab)"
   ]
  },
  {
   "cell_type": "code",
   "execution_count": 3,
   "metadata": {},
   "outputs": [
    {
     "name": "stdout",
     "output_type": "stream",
     "text": [
      "array('I', [0, 0, 0])\n"
     ]
    },
    {
     "data": {
      "text/plain": [
       "array('I', [0, 0])"
      ]
     },
     "execution_count": 3,
     "metadata": {},
     "output_type": "execute_result"
    }
   ],
   "source": [
    "# 获取词语列表索引\n",
    "vocab = srilm.vocab.Vocab()\n",
    "a = ['<unk>', '<unk>', '<unk>']\n",
    "print(vocab.index(a))\n",
    "a = ['xixi', 'haha']\n",
    "vocab.index(a)"
   ]
  },
  {
   "cell_type": "code",
   "execution_count": 4,
   "metadata": {},
   "outputs": [
    {
     "name": "stdout",
     "output_type": "stream",
     "text": [
      "3\t-pau-\n",
      "1\t<s>\n",
      "0\t<unk>\n",
      "4\tword0\n",
      "5\tword1\n",
      "6\tword2\n",
      "7\tword3\n",
      "8\tword4\n",
      "9\tword5\n",
      "11\tword7\n",
      "10\tword6\n",
      "12\tword8\n",
      "13\tword9\n",
      "2\t</s>\n"
     ]
    }
   ],
   "source": [
    "# 遍历, 0,1,2,3是保留给特殊词语的\n",
    "vocab = srilm.vocab.Vocab()\n",
    "for i in range(10):\n",
    "    vocab.add('word%d' % i)\n",
    "for w, i in vocab:\n",
    "    print(vocab[w], end='\\t')\n",
    "    print(vocab[i], end='\\n')"
   ]
  },
  {
   "cell_type": "code",
   "execution_count": 5,
   "metadata": {},
   "outputs": [
    {
     "name": "stdout",
     "output_type": "stream",
     "text": [
      "<unk> index =  0\n",
      "<bos> index =  1\n",
      "<eos> index =  2\n",
      "<pau> index =  3\n"
     ]
    }
   ],
   "source": [
    "vocab = srilm.vocab.Vocab()\n",
    "# unk索引 未登录词\n",
    "print('<unk> index = ', vocab.unk)\n",
    "# bos索引\n",
    "print('<bos> index = ', vocab.bos)\n",
    "# eos索引\n",
    "print('<eos> index = ', vocab.eos)\n",
    "# pau索引 停用词\n",
    "print('<pau> index = ', vocab.pau)"
   ]
  },
  {
   "cell_type": "code",
   "execution_count": 6,
   "metadata": {},
   "outputs": [
    {
     "data": {
      "text/plain": [
       "['<unk>', '<unk>', '<unk>']"
      ]
     },
     "execution_count": 6,
     "metadata": {},
     "output_type": "execute_result"
    }
   ],
   "source": [
    "vocab = srilm.vocab.Vocab()\n",
    "# 通过索引序列取字符串序列\n",
    "import array\n",
    "vocab.string(array.array('I', [0, 0, 0]))"
   ]
  }
 ],
 "metadata": {
  "kernelspec": {
   "display_name": "Python [conda env:conda-py36]",
   "language": "python",
   "name": "conda-env-conda-py36-py"
  },
  "language_info": {
   "codemirror_mode": {
    "name": "ipython",
    "version": 3
   },
   "file_extension": ".py",
   "mimetype": "text/x-python",
   "name": "python",
   "nbconvert_exporter": "python",
   "pygments_lexer": "ipython3",
   "version": "3.6.8"
  }
 },
 "nbformat": 4,
 "nbformat_minor": 1
}
