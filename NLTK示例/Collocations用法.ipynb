{
 "cells": [
  {
   "cell_type": "markdown",
   "metadata": {},
   "source": [
    "参考链接：http://www.nltk.org/howto/collocations.html ，http://nlp.stanford.edu/fsnlp/promo/colloc.pdf"
   ]
  },
  {
   "cell_type": "code",
   "execution_count": 1,
   "metadata": {},
   "outputs": [
    {
     "name": "stdout",
     "output_type": "stream",
     "text": [
      "Help on class BigramCollocationFinder in module nltk.collocations:\n",
      "\n",
      "class BigramCollocationFinder(AbstractCollocationFinder)\n",
      " |  BigramCollocationFinder(word_fd, bigram_fd, window_size=2)\n",
      " |  \n",
      " |  A tool for the finding and ranking of bigram collocations or other\n",
      " |  association measures. It is often useful to use from_words() rather than\n",
      " |  constructing an instance directly.\n",
      " |  \n",
      " |  Method resolution order:\n",
      " |      BigramCollocationFinder\n",
      " |      AbstractCollocationFinder\n",
      " |      builtins.object\n",
      " |  \n",
      " |  Methods defined here:\n",
      " |  \n",
      " |  __init__(self, word_fd, bigram_fd, window_size=2)\n",
      " |      Construct a BigramCollocationFinder, given FreqDists for\n",
      " |      appearances of words and (possibly non-contiguous) bigrams.\n",
      " |  \n",
      " |  score_ngram(self, score_fn, w1, w2)\n",
      " |      Returns the score for a given bigram using the given scoring\n",
      " |      function.  Following Church and Hanks (1990), counts are scaled by\n",
      " |      a factor of 1/(window_size - 1).\n",
      " |  \n",
      " |  ----------------------------------------------------------------------\n",
      " |  Class methods defined here:\n",
      " |  \n",
      " |  from_words(words, window_size=2) from builtins.type\n",
      " |      Construct a BigramCollocationFinder for all bigrams in the given\n",
      " |      sequence.  When window_size > 2, count non-contiguous bigrams, in the\n",
      " |      style of Church and Hanks's (1990) association ratio.\n",
      " |  \n",
      " |  ----------------------------------------------------------------------\n",
      " |  Data and other attributes defined here:\n",
      " |  \n",
      " |  default_ws = 2\n",
      " |  \n",
      " |  ----------------------------------------------------------------------\n",
      " |  Methods inherited from AbstractCollocationFinder:\n",
      " |  \n",
      " |  above_score(self, score_fn, min_score)\n",
      " |      Returns a sequence of ngrams, ordered by decreasing score, whose\n",
      " |      scores each exceed the given minimum score.\n",
      " |  \n",
      " |  apply_freq_filter(self, min_freq)\n",
      " |      Removes candidate ngrams which have frequency less than min_freq.\n",
      " |  \n",
      " |  apply_ngram_filter(self, fn)\n",
      " |      Removes candidate ngrams (w1, w2, ...) where fn(w1, w2, ...)\n",
      " |      evaluates to True.\n",
      " |  \n",
      " |  apply_word_filter(self, fn)\n",
      " |      Removes candidate ngrams (w1, w2, ...) where any of (fn(w1), fn(w2),\n",
      " |      ...) evaluates to True.\n",
      " |  \n",
      " |  nbest(self, score_fn, n)\n",
      " |      Returns the top n ngrams when scored by the given function.\n",
      " |  \n",
      " |  score_ngrams(self, score_fn)\n",
      " |      Returns a sequence of (ngram, score) pairs ordered from highest to\n",
      " |      lowest score, as determined by the scoring function provided.\n",
      " |  \n",
      " |  ----------------------------------------------------------------------\n",
      " |  Class methods inherited from AbstractCollocationFinder:\n",
      " |  \n",
      " |  from_documents(documents) from builtins.type\n",
      " |      Constructs a collocation finder given a collection of documents,\n",
      " |      each of which is a list (or iterable) of tokens.\n",
      " |  \n",
      " |  ----------------------------------------------------------------------\n",
      " |  Data descriptors inherited from AbstractCollocationFinder:\n",
      " |  \n",
      " |  __dict__\n",
      " |      dictionary for instance variables (if defined)\n",
      " |  \n",
      " |  __weakref__\n",
      " |      list of weak references to the object (if defined)\n",
      "\n"
     ]
    }
   ],
   "source": [
    "from nltk.collocations import BigramCollocationFinder\n",
    "help(BigramCollocationFinder)"
   ]
  },
  {
   "cell_type": "markdown",
   "metadata": {},
   "source": [
    "# 1. 构建2gram搭配发现实例"
   ]
  },
  {
   "cell_type": "code",
   "execution_count": 2,
   "metadata": {},
   "outputs": [],
   "source": [
    "word_li = ['Chinese', 'Beijing', 'Chinese', 'Chinese', 'Chinese', 'Shanghai', 'Chinese', 'Macao', 'Tokyo', 'Japan', 'Chinese']"
   ]
  },
  {
   "cell_type": "code",
   "execution_count": 3,
   "metadata": {},
   "outputs": [],
   "source": [
    "finder = BigramCollocationFinder.from_words(word_li)"
   ]
  },
  {
   "cell_type": "markdown",
   "metadata": {},
   "source": [
    "# 2. 用点互信息法给2grams组构成搭配打分"
   ]
  },
  {
   "cell_type": "code",
   "execution_count": 4,
   "metadata": {},
   "outputs": [
    {
     "name": "stdout",
     "output_type": "stream",
     "text": [
      "Help on method pmi in module nltk.metrics.association:\n",
      "\n",
      "pmi(*marginals) method of abc.ABCMeta instance\n",
      "    Scores ngrams by pointwise mutual information, as in Manning and\n",
      "    Schutze 5.4.\n",
      "\n"
     ]
    }
   ],
   "source": [
    "import nltk\n",
    "bigram_measures = nltk.collocations.BigramAssocMeasures()\n",
    "help(bigram_measures.pmi)"
   ]
  },
  {
   "cell_type": "code",
   "execution_count": 5,
   "metadata": {},
   "outputs": [
    {
     "data": {
      "text/plain": [
       "[('Macao', 'Tokyo'),\n",
       " ('Tokyo', 'Japan'),\n",
       " ('Beijing', 'Chinese'),\n",
       " ('Chinese', 'Beijing'),\n",
       " ('Chinese', 'Macao'),\n",
       " ('Chinese', 'Shanghai'),\n",
       " ('Japan', 'Chinese'),\n",
       " ('Shanghai', 'Chinese'),\n",
       " ('Chinese', 'Chinese')]"
      ]
     },
     "execution_count": 5,
     "metadata": {},
     "output_type": "execute_result"
    }
   ],
   "source": [
    "finder.nbest(bigram_measures.pmi, 10)"
   ]
  },
  {
   "cell_type": "markdown",
   "metadata": {},
   "source": [
    "# 3. 用似然率法给2grams组构成搭配打分"
   ]
  },
  {
   "cell_type": "code",
   "execution_count": 6,
   "metadata": {},
   "outputs": [
    {
     "name": "stdout",
     "output_type": "stream",
     "text": [
      "Help on method likelihood_ratio in module nltk.metrics.association:\n",
      "\n",
      "likelihood_ratio(*marginals) method of abc.ABCMeta instance\n",
      "    Scores ngrams using likelihood ratios as in Manning and Schutze 5.3.4.\n",
      "\n"
     ]
    }
   ],
   "source": [
    "help(bigram_measures.likelihood_ratio)"
   ]
  },
  {
   "cell_type": "code",
   "execution_count": 7,
   "metadata": {},
   "outputs": [
    {
     "data": {
      "text/plain": [
       "[('Macao', 'Tokyo'),\n",
       " ('Tokyo', 'Japan'),\n",
       " ('Chinese', 'Chinese'),\n",
       " ('Beijing', 'Chinese'),\n",
       " ('Chinese', 'Beijing'),\n",
       " ('Chinese', 'Macao'),\n",
       " ('Chinese', 'Shanghai'),\n",
       " ('Japan', 'Chinese'),\n",
       " ('Shanghai', 'Chinese')]"
      ]
     },
     "execution_count": 7,
     "metadata": {},
     "output_type": "execute_result"
    }
   ],
   "source": [
    "finder.nbest(bigram_measures.likelihood_ratio, 10)"
   ]
  }
 ],
 "metadata": {
  "kernelspec": {
   "display_name": "Python 3",
   "language": "python",
   "name": "python3"
  },
  "language_info": {
   "codemirror_mode": {
    "name": "ipython",
    "version": 3
   },
   "file_extension": ".py",
   "mimetype": "text/x-python",
   "name": "python",
   "nbconvert_exporter": "python",
   "pygments_lexer": "ipython3",
   "version": "3.7.0"
  }
 },
 "nbformat": 4,
 "nbformat_minor": 2
}
