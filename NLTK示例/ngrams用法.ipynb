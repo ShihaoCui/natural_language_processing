{
 "cells": [
  {
   "cell_type": "code",
   "execution_count": 1,
   "metadata": {},
   "outputs": [],
   "source": [
    "from nltk import ngrams"
   ]
  },
  {
   "cell_type": "code",
   "execution_count": 3,
   "metadata": {},
   "outputs": [
    {
     "name": "stdout",
     "output_type": "stream",
     "text": [
      "['作死_男子', '男子_假装', '假装_醉汉', '醉汉_横躺', '横躺_街头', '街头_堵塞', '堵塞_交通', '交通_围殴']\n"
     ]
    }
   ],
   "source": [
    "word_li = ['作死', '男子', '假装', '醉汉', '横躺', '街头', '堵塞', '交通', '围殴']\n",
    "ngrams2_li = [u'_'.join(w) for w in ngrams(word_li, 2)]\n",
    "print(ngrams2_li)"
   ]
  }
 ],
 "metadata": {
  "kernelspec": {
   "display_name": "Python 3",
   "language": "python",
   "name": "python3"
  },
  "language_info": {
   "codemirror_mode": {
    "name": "ipython",
    "version": 3
   },
   "file_extension": ".py",
   "mimetype": "text/x-python",
   "name": "python",
   "nbconvert_exporter": "python",
   "pygments_lexer": "ipython3",
   "version": "3.7.0"
  }
 },
 "nbformat": 4,
 "nbformat_minor": 2
}
