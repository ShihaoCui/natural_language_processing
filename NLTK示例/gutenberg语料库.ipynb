{
 "cells": [
  {
   "cell_type": "markdown",
   "metadata": {},
   "source": [
    "古腾堡语料库\n",
    "NLTK包含古腾堡项目（Project Gutenberg）电子文档的一小部分文本。\n",
    "该项目大约有25000（现在是36000）本免费电子书。\n",
    "我们通过平均句子长度和平均词种数（词语丰富度）这两个特征，来看不同作者的写作风格。"
   ]
  },
  {
   "cell_type": "code",
   "execution_count": 1,
   "metadata": {
    "collapsed": false
   },
   "outputs": [
    {
     "data": {
      "text/plain": [
       "['austen-emma.txt',\n",
       " 'austen-persuasion.txt',\n",
       " 'austen-sense.txt',\n",
       " 'bible-kjv.txt',\n",
       " 'blake-poems.txt',\n",
       " 'bryant-stories.txt',\n",
       " 'burgess-busterbrown.txt',\n",
       " 'carroll-alice.txt',\n",
       " 'chesterton-ball.txt',\n",
       " 'chesterton-brown.txt',\n",
       " 'chesterton-thursday.txt',\n",
       " 'edgeworth-parents.txt',\n",
       " 'melville-moby_dick.txt',\n",
       " 'milton-paradise.txt',\n",
       " 'shakespeare-caesar.txt',\n",
       " 'shakespeare-hamlet.txt',\n",
       " 'shakespeare-macbeth.txt',\n",
       " 'whitman-leaves.txt']"
      ]
     },
     "execution_count": 1,
     "metadata": {},
     "output_type": "execute_result"
    }
   ],
   "source": [
    "# 导入古腾堡语料库\n",
    "from nltk.corpus import gutenberg\n",
    "# 显示古腾堡语料库中所有文件名称\n",
    "gutenberg.fileids()"
   ]
  },
  {
   "cell_type": "code",
   "execution_count": 2,
   "metadata": {
    "collapsed": false
   },
   "outputs": [
    {
     "name": "stdout",
     "output_type": "stream",
     "text": [
      "4 24 26\n",
      "4 26 16\n",
      "4 28 22\n",
      "4 33 79\n",
      "4 19 5\n",
      "4 19 14\n",
      "4 17 12\n",
      "4 20 12\n",
      "4 20 11\n",
      "4 22 11\n",
      "4 18 10\n",
      "4 20 24\n",
      "4 25 15\n",
      "4 52 10\n",
      "4 11 8\n",
      "4 12 7\n",
      "4 12 6\n",
      "4 36 12\n"
     ]
    }
   ],
   "source": [
    "# 平均词长特征值序列\n",
    "fea1_li = []\n",
    "# 平均句长特征值序列\n",
    "fea2_li = []\n",
    "# 平均词种数特征值序列\n",
    "fea3_li = []\n",
    "# 遍历每个作者所写的文本\n",
    "for fileid in gutenberg.fileids():\n",
    "    # 统计字符数\n",
    "    num_chars = len(gutenberg.raw(fileid))\n",
    "    # 统计词语数\n",
    "    num_words = len(gutenberg.words(fileid))\n",
    "    # 统计句子数\n",
    "    num_sents = len(gutenberg.sents(fileid))\n",
    "    # 统计词种数\n",
    "    num_vocab = len(set([w.lower() for w in gutenberg.words(fileid)]))\n",
    "    # 特征1:计算平均词长\n",
    "    average_word_len = int(num_chars/num_words)\n",
    "    fea1_li.append(average_word_len)\n",
    "    # 特征2:计算平均句长\n",
    "    average_sent_len = int(num_words/num_sents)\n",
    "    fea2_li.append(average_sent_len)\n",
    "    # 特征3:计算平均词种数\n",
    "    average_word_category = int(num_words/num_vocab)\n",
    "    fea3_li.append(average_word_category)\n",
    "    # 打印各特征值\n",
    "    print(average_word_len, average_sent_len, average_word_category)"
   ]
  },
  {
   "cell_type": "code",
   "execution_count": 3,
   "metadata": {
    "collapsed": false
   },
   "outputs": [
    {
     "data": {
      "image/png": "[encoded data removed]",
      "text/plain": [
       "<Figure size 1080x360 with 1 Axes>"
      ]
     },
     "metadata": {
      "needs_background": "light"
     },
     "output_type": "display_data"
    }
   ],
   "source": [
    "%matplotlib inline\n",
    "# 并列柱状图\n",
    "import matplotlib.pyplot as plt\n",
    "import numpy as np\n",
    "\n",
    "# 设置图片大小\n",
    "plt.figure(figsize=(15,5))\n",
    "\n",
    "#柱状图在横坐标上的位置\n",
    "x = np.arange(len(gutenberg.fileids()))\n",
    "#列出你要显示的数据，数据的列表长度与x长度相同\n",
    "y1 = fea1_li\n",
    "y2 = fea2_li\n",
    "y3 = fea3_li\n",
    "\n",
    "#设置柱状图的宽度\n",
    "bar_width = 0.3\n",
    "tick_label = [w[:3] for w in gutenberg.fileids()]\n",
    "\n",
    "#绘制并列柱状图\n",
    "plt.bar(x,y1,bar_width,color='orange',label='average_word_len')\n",
    "plt.bar(x+bar_width, y2, bar_width, color='y',label='average_sent_len')\n",
    "plt.bar(x+2*bar_width, y3, bar_width, color='c', label='average_word_category')\n",
    "\n",
    "#显示图例，即label\n",
    "plt.legend(loc='upper right')\n",
    "#显示x坐标轴的标签,即tick_label,调整位置，使其落在两个直方图中间位置\n",
    "plt.xticks(x+bar_width,tick_label)\n",
    "plt.show()"
   ]
  },
  {
   "cell_type": "markdown",
   "metadata": {},
   "source": [
    "（1）相同作者的3个特征值基本一致\n",
    "（2）平均词长特征对于不同作者来说没有区分度"
   ]
  }
 ],
 "metadata": {
  "anaconda-cloud": {},
  "kernelspec": {
   "display_name": "Python [conda env:anaconda3]",
   "language": "python",
   "name": "conda-env-anaconda3-py"
  },
  "language_info": {
   "codemirror_mode": {
    "name": "ipython",
    "version": 3
   },
   "file_extension": ".py",
   "mimetype": "text/x-python",
   "name": "python",
   "nbconvert_exporter": "python",
   "pygments_lexer": "ipython3",
   "version": "3.5.2"
  }
 },
 "nbformat": 4,
 "nbformat_minor": 1
}
