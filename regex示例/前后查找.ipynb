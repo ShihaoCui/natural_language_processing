{
 "cells": [
  {
   "cell_type": "code",
   "execution_count": 1,
   "metadata": {},
   "outputs": [],
   "source": [
    "import re"
   ]
  },
  {
   "cell_type": "code",
   "execution_count": 2,
   "metadata": {},
   "outputs": [],
   "source": [
    "text_li = ['test01@cubagov.com',\n",
    "           'admin@cubagov.com',\n",
    "           'abc@cubagov.com']"
   ]
  },
  {
   "cell_type": "code",
   "execution_count": 3,
   "metadata": {},
   "outputs": [
    {
     "name": "stdout",
     "output_type": "stream",
     "text": [
      "原文本 test01@cubagov.com\n",
      "替换后 ***@***.com\n",
      "原文本 admin@cubagov.com\n",
      "替换后 ***@***.com\n",
      "原文本 abc@cubagov.com\n",
      "替换后 ***@***.com\n"
     ]
    }
   ],
   "source": [
    "for text in text_li:\n",
    "    print('原文本', text)\n",
    "    # 方法1\n",
    "#     text = re.sub(u\".+(?=@)\",u'***',text)\n",
    "#     text = re.sub(u\"(?<=@).*(?=\\.com)\",u'***',text)\n",
    "    # 方法2\n",
    "    text = re.sub(u\".+(?<=@).*(?=\\.com)\",u'***@***',text)\n",
    "    print('替换后', text)"
   ]
  }
 ],
 "metadata": {
  "kernelspec": {
   "display_name": "Python 3",
   "language": "python",
   "name": "python3"
  },
  "language_info": {
   "codemirror_mode": {
    "name": "ipython",
    "version": 3
   },
   "file_extension": ".py",
   "mimetype": "text/x-python",
   "name": "python",
   "nbconvert_exporter": "python",
   "pygments_lexer": "ipython3",
   "version": "3.7.0"
  }
 },
 "nbformat": 4,
 "nbformat_minor": 2
}
