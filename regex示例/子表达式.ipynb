{
 "cells": [
  {
   "cell_type": "code",
   "execution_count": 1,
   "metadata": {
    "collapsed": false
   },
   "outputs": [],
   "source": [
    "import re"
   ]
  },
  {
   "cell_type": "code",
   "execution_count": 2,
   "metadata": {
    "collapsed": false
   },
   "outputs": [
    {
     "data": {
      "text/plain": [
       "[('&nbsp;&nbsp;', '&nbsp;')]"
      ]
     },
     "execution_count": 2,
     "metadata": {},
     "output_type": "execute_result"
    }
   ],
   "source": [
    "text1 = \"\"\"Hello, my name is BenForta, and I am \n",
    "the author of books on SQL, ColdFusion, WAP,\n",
    "Windows&nbsp;&nbsp;2000, and other subjects.\"\"\"\n",
    "re.findall(r'((&nbsp;){1,3})', text1)"
   ]
  },
  {
   "cell_type": "code",
   "execution_count": 3,
   "metadata": {
    "collapsed": false
   },
   "outputs": [
    {
     "data": {
      "text/plain": [
       "<_sre.SRE_Match object; span=(23, 36), match='12.159.46.200'>"
      ]
     },
     "execution_count": 3,
     "metadata": {},
     "output_type": "execute_result"
    }
   ],
   "source": [
    "text2 = \"\"\"Pinging hog.forta.com [12.159.46.200]\n",
    "with 32 bytes of data\"\"\"\n",
    "re.search(r'(\\d{1,3}\\.){1,3}\\d{1,3}', text2)"
   ]
  },
  {
   "cell_type": "markdown",
   "metadata": {},
   "source": [
    "## 示例\n",
    "有以下文本，其中的单词和对应的中文之间没有分隔符，要求用\\t将它们分离开。注意对于那种没有给出对应中文翻译的单词过滤掉。"
   ]
  },
  {
   "cell_type": "code",
   "execution_count": 15,
   "metadata": {
    "collapsed": false
   },
   "outputs": [
    {
     "name": "stdout",
     "output_type": "stream",
     "text": [
      "[('abandoned', '被遗弃的')]\n",
      "[]\n",
      "[]\n",
      "[('De-caff', '无咖啡因的咖啡')]\n",
      "[('TV.', '电视')]\n",
      "[]\n"
     ]
    }
   ],
   "source": [
    "texts = ['abandoned被遗弃的', \n",
    "         'AbottAbott',\n",
    "         \"boit'sitboit 'sit\",\n",
    "         \"De-caff无咖啡因的咖啡\",\n",
    "         \"TV.电视。\",\n",
    "         \"c'merec‘mere\"]\n",
    "for text in texts:\n",
    "    print(re.findall(u'([a-zA-Z\\' \\-\\.]+)([^a-zA-Z\\' \\-\\.。‘]+)', text))"
   ]
  }
 ],
 "metadata": {
  "anaconda-cloud": {},
  "kernelspec": {
   "display_name": "Python [default]",
   "language": "python",
   "name": "python3"
  },
  "language_info": {
   "codemirror_mode": {
    "name": "ipython",
    "version": 3
   },
   "file_extension": ".py",
   "mimetype": "text/x-python",
   "name": "python",
   "nbconvert_exporter": "python",
   "pygments_lexer": "ipython3",
   "version": "3.5.2"
  }
 },
 "nbformat": 4,
 "nbformat_minor": 1
}
