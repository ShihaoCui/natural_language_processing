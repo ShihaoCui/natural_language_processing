{
 "cells": [
  {
   "cell_type": "code",
   "execution_count": 1,
   "metadata": {},
   "outputs": [],
   "source": [
    "sen_li = [u'你去不去？',\n",
    "          u'他明天来不来？',\n",
    "          u'那衣服贵不贵？',\n",
    "          u'那地方远不远？',\n",
    "          u'你看没看今天的电视新闻？',\n",
    "          u'你去没去他家？']"
   ]
  },
  {
   "cell_type": "code",
   "execution_count": 2,
   "metadata": {},
   "outputs": [],
   "source": [
    "import re"
   ]
  },
  {
   "cell_type": "code",
   "execution_count": 3,
   "metadata": {},
   "outputs": [
    {
     "name": "stdout",
     "output_type": "stream",
     "text": [
      "match 去不去\n",
      "match 来不来\n",
      "match 贵不贵\n",
      "match 远不远\n"
     ]
    }
   ],
   "source": [
    "for sen in sen_li:\n",
    "    m = re.search(u'(\\w)不\\\\1', sen)\n",
    "    if m:\n",
    "        print(\"match\", m.group(0))"
   ]
  },
  {
   "cell_type": "code",
   "execution_count": 6,
   "metadata": {},
   "outputs": [
    {
     "name": "stdout",
     "output_type": "stream",
     "text": [
      "['去']\n",
      "['来']\n",
      "['贵']\n",
      "['远']\n"
     ]
    }
   ],
   "source": [
    "for sen in sen_li:\n",
    "    match_li = re.findall(u'(\\w)不\\\\1', sen)\n",
    "    if match_li:\n",
    "        print(match_li)"
   ]
  }
 ],
 "metadata": {
  "kernelspec": {
   "display_name": "Python 3",
   "language": "python",
   "name": "python3"
  },
  "language_info": {
   "codemirror_mode": {
    "name": "ipython",
    "version": 3
   },
   "file_extension": ".py",
   "mimetype": "text/x-python",
   "name": "python",
   "nbconvert_exporter": "python",
   "pygments_lexer": "ipython3",
   "version": "3.7.0"
  }
 },
 "nbformat": 4,
 "nbformat_minor": 2
}
